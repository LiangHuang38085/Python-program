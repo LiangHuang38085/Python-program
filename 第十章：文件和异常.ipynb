{
 "cells": [
  {
   "cell_type": "code",
   "execution_count": null,
   "metadata": {},
   "outputs": [],
   "source": [
    "#从文件中读取数据\n",
    "with open('pi_digits.txt') as file_object:\n",
    "    contents=file_object.read()\n",
    "    print(contents.rstrip())\n",
    "'''\n",
    "将3.1415926535\n",
    "8979323846\n",
    "2643383279存储为pi_digits.txt;然后将上述代码存储为file_reader.py放在同一文件夹\n",
    "函数open（）接受一个参数：要打开的文件名称；关键字with在程序不再需要访问文件时关闭\n",
    "函数read（）输出会在末尾多出一个空行，删除时需要使用rstrip()\n",
    "'''"
   ]
  },
  {
   "cell_type": "code",
   "execution_count": null,
   "metadata": {},
   "outputs": [],
   "source": [
    "#文件路径\n",
    "#使用相对路径，相对于当前运行程序所在目录\n",
    "#使用绝对路径，将路径存为变量\n",
    "#mac文件目录区分用斜杠/；windows用\\"
   ]
  },
  {
   "cell_type": "code",
   "execution_count": null,
   "metadata": {},
   "outputs": [],
   "source": [
    "#逐行读取\n",
    "filename='pi_digits.txt'\n",
    "with open(filename) as file_object:\n",
    "    for line in file_object:\n",
    "        print(line)"
   ]
  },
  {
   "cell_type": "code",
   "execution_count": null,
   "metadata": {},
   "outputs": [],
   "source": [
    "#创建一个包含文件各行内容的列表;为了能够在with代码块外访问文件内容\n",
    "#方法readlines()从文件中读取每一行，并存在一个列表中\n",
    "filename='pi_digits.txt'\n",
    "with open(filename) as file_object:\n",
    "    lines=file_object.readlines()\n",
    "for line in lines:\n",
    "    print(line.rstrip())"
   ]
  },
  {
   "cell_type": "code",
   "execution_count": null,
   "metadata": {},
   "outputs": [],
   "source": [
    "#使用文件的内容\n",
    "filename='pi_digits.txt'\n",
    "with open(filename) as file_object:\n",
    "    lines=file_object.readlines()\n",
    "pi_string=''\n",
    "for line in lines:\n",
    "    pi_string+=line.strip()\n",
    "print(pi_string)\n",
    "print(len(pi_string))"
   ]
  },
  {
   "cell_type": "code",
   "execution_count": null,
   "metadata": {},
   "outputs": [],
   "source": [
    "#包含一百万倍的大型文件\n",
    "filename='pi_million_digits.txt'\n",
    "with open(filename) as file_object:\n",
    "    lines=file_object.readlines()\n",
    "pi_string=''\n",
    "for line in lines:\n",
    "    pi_string+=line.strip()\n",
    "print(pi_string[:52]+\"...\")\n",
    "print(len(pi_string))"
   ]
  },
  {
   "cell_type": "code",
   "execution_count": null,
   "metadata": {},
   "outputs": [],
   "source": [
    "#检查自己的生日是否在前100万圆周率当中\n",
    "filename='pi_million_digits.txt'\n",
    "with open(filename) as file_object:\n",
    "    lines=file_object.readlines()\n",
    "pi_string=''\n",
    "for line in lines:\n",
    "    pi_string+=line.strip()\n",
    "birthday=input(\"Enter your birthday,in the form mmddyy: \")\n",
    "if birthday in pi_string:\n",
    "    print(\"Your birthday appears in the first million digits of pi!\")\n",
    "else:\n",
    "    print(\"Your birthday does not appear in the first million digits of pi.\")"
   ]
  },
  {
   "cell_type": "code",
   "execution_count": null,
   "metadata": {},
   "outputs": [],
   "source": [
    "#写入文件（第二个实参’r‘为默认的只读模式；’w‘为写入模式；’a‘为附加模式；’r+‘为读取和写入文件的模式）\n",
    "#写入时注意，指定的文件若存在，则会被清除；没有则自动创建\n",
    "filename='programming.txt'\n",
    "with open(filename,'w') as file_object:\n",
    "    file_object.write(\"I love programming.\")"
   ]
  },
  {
   "cell_type": "code",
   "execution_count": null,
   "metadata": {},
   "outputs": [],
   "source": [
    "#python将文本自动解读为字符串；可用int()或float转换\n",
    "#写入时也需要将数值用str转换成字符串"
   ]
  },
  {
   "cell_type": "code",
   "execution_count": null,
   "metadata": {},
   "outputs": [],
   "source": [
    "#写入多行\n",
    "filename='programming_multi.txt'\n",
    "with open(filename,'w') as file_object:\n",
    "    file_object.write(\"I love programming.\\n\")\n",
    "    file_object.write(\"I love creating new games.\\n\")"
   ]
  },
  {
   "cell_type": "code",
   "execution_count": null,
   "metadata": {},
   "outputs": [],
   "source": [
    "#附加：给文件添加内容\n",
    "filename='programming_multi.txt'\n",
    "with open(filename,'a') as file_object:\n",
    "    file_object.write(\"I also love finding meaning in large datasets.\\n\")\n",
    "    file_object.write(\"I love creating apps that can run in a browser.\\n\")"
   ]
  },
  {
   "cell_type": "code",
   "execution_count": 2,
   "metadata": {},
   "outputs": [
    {
     "ename": "ZeroDivisionError",
     "evalue": "division by zero",
     "output_type": "error",
     "traceback": [
      "\u001b[0;31m---------------------------------------------------------------------------\u001b[0m",
      "\u001b[0;31mZeroDivisionError\u001b[0m                         Traceback (most recent call last)",
      "\u001b[0;32m<ipython-input-2-a19df61645e1>\u001b[0m in \u001b[0;36m<module>\u001b[0;34m\u001b[0m\n\u001b[1;32m      1\u001b[0m \u001b[0;31m#异常处理（try-except）\u001b[0m\u001b[0;34m\u001b[0m\u001b[0;34m\u001b[0m\u001b[0;34m\u001b[0m\u001b[0m\n\u001b[0;32m----> 2\u001b[0;31m \u001b[0mprint\u001b[0m\u001b[0;34m(\u001b[0m\u001b[0;36m5\u001b[0m\u001b[0;34m/\u001b[0m\u001b[0;36m0\u001b[0m\u001b[0;34m)\u001b[0m\u001b[0;34m\u001b[0m\u001b[0;34m\u001b[0m\u001b[0m\n\u001b[0m",
      "\u001b[0;31mZeroDivisionError\u001b[0m: division by zero"
     ]
    }
   ],
   "source": [
    "#异常处理（try-except）\n",
    "print(5/0)"
   ]
  },
  {
   "cell_type": "code",
   "execution_count": 3,
   "metadata": {},
   "outputs": [
    {
     "name": "stdout",
     "output_type": "stream",
     "text": [
      "You can't divide by zero!\n"
     ]
    }
   ],
   "source": [
    "try:\n",
    "    print(5/0)\n",
    "except ZeroDivisionError:\n",
    "    print(\"You can't divide by zero!\")"
   ]
  },
  {
   "cell_type": "code",
   "execution_count": null,
   "metadata": {},
   "outputs": [],
   "source": [
    "#目的是为了确认错误，并且为了让其他正常代码继续运行"
   ]
  },
  {
   "cell_type": "code",
   "execution_count": 2,
   "metadata": {},
   "outputs": [
    {
     "name": "stdout",
     "output_type": "stream",
     "text": [
      "Give me two numbers,and I'll divide them.\n",
      "Enter 'q' to quit.\n",
      "\n",
      "First number: 5\n",
      "Second number: 0\n",
      "You can't divide by 0!\n",
      "\n",
      "First number: 90\n",
      "Second number: 2\n",
      "45.0\n",
      "\n",
      "First number: q\n"
     ]
    }
   ],
   "source": [
    "#使用异常避免崩溃（妥善处理错误，让程序继续运行）\n",
    "#将可能引发错误的代码放到try-except中，依赖于try代码块成功运行的代码都应该放到else中\n",
    "print(\"Give me two numbers,and I'll divide them.\")\n",
    "print(\"Enter 'q' to quit.\")\n",
    "while True:\n",
    "    first_number=input(\"\\nFirst number: \")\n",
    "    if first_number=='q':\n",
    "        break\n",
    "    second_number=input(\"Second number: \")\n",
    "    try:\n",
    "        answer=int(first_number)/int(second_number)\n",
    "    except ZeroDivisionError:\n",
    "        print(\"You can't divide by 0!\")\n",
    "    else:\n",
    "        print(answer)"
   ]
  },
  {
   "cell_type": "code",
   "execution_count": 4,
   "metadata": {},
   "outputs": [
    {
     "data": {
      "text/plain": [
       "['Alice', 'in', 'Wonderland']"
      ]
     },
     "execution_count": 4,
     "metadata": {},
     "output_type": "execute_result"
    }
   ],
   "source": [
    "#分析文本\n",
    "#方法split()根据一个字符串创建一个单词列表\n",
    "title=\"Alice in Wonderland\"\n",
    "title.split()"
   ]
  },
  {
   "cell_type": "code",
   "execution_count": null,
   "metadata": {},
   "outputs": [],
   "source": [
    "#计算《爱丽丝梦游仙境》英文版包含的单词数\n",
    "#在作者的github上复制文件，存在idle的文件目录下即可运行代码\n",
    "filename='alice.txt'\n",
    "try:\n",
    "    with open(filename) as f_obj:\n",
    "        contents=f.obj.read()\n",
    "except FileNotFoundError:\n",
    "    msg=\"sorry,the file \"+filename+\" does not exist.\"\n",
    "    print(msg)\n",
    "else:\n",
    "    #计算文件包含的单词数\n",
    "    words=contents.split()\n",
    "    num_words=len(words)\n",
    "    print(\"The file \"+filename+\" has about \"+str(num_words)+\" words.\")"
   ]
  },
  {
   "cell_type": "code",
   "execution_count": null,
   "metadata": {},
   "outputs": [],
   "source": [
    "#使用多个文件\n",
    "def count_words(filename):\n",
    "    \"\"\"计算一个文件大概包含多少单词\"\"\"\n",
    "    try:\n",
    "        with open(filename) as f_obj:\n",
    "            contents=f_obj.read()\n",
    "    except FileNotFoundError:\n",
    "        msg=\"Sorry,the file \"+filename+\" does not exist.\"\n",
    "        print(msg)\n",
    "    else:\n",
    "        #计算文件大概包含多少单词\n",
    "        words=contents.split()\n",
    "        num_words=len(words)\n",
    "        print(\"The file \"+filename+\" has about \"+str(num_words)+\" words.\")\n",
    "filenames=['alice.txt','siddhartha.txt','moby_dick.txt','little_woman.txt']\n",
    "for filename in filenames:\n",
    "    count_words(filename)"
   ]
  },
  {
   "cell_type": "code",
   "execution_count": 5,
   "metadata": {},
   "outputs": [],
   "source": [
    "#忽略那些执行失败的情况,仅仅展示运行成功的程序\n",
    "#可以使用pass语句\n",
    "#except FileNotFoundError:\n",
    "#    pass"
   ]
  },
  {
   "cell_type": "code",
   "execution_count": null,
   "metadata": {},
   "outputs": [],
   "source": [
    "#使用json存储、读取数据\n",
    "#json.dump()接受两个实参，要存储的数据以及可用于存储数据的文件对象;文件可直接打开\n",
    "import json\n",
    "numbers=[2,3,5,7,11,13]\n",
    "filename='numbers.json'\n",
    "with open(filename,'w') as f_obj:\n",
    "    json.dump(numbers,f_obj)"
   ]
  },
  {
   "cell_type": "code",
   "execution_count": null,
   "metadata": {},
   "outputs": [],
   "source": [
    "#使用json.load将数据读取到内存中\n",
    "import json\n",
    "filename='numbers.json'\n",
    "with open(filename) as f_obj:\n",
    "    numbers=json.load(f_obj)\n",
    "print(numbers)"
   ]
  },
  {
   "cell_type": "code",
   "execution_count": null,
   "metadata": {},
   "outputs": [],
   "source": [
    "#保存和读取用户生成的数据\n",
    "#存储用户的名字\n",
    "import json\n",
    "username=input(\"what is your name?\")\n",
    "filename='username.json'\n",
    "with open(filename,'w') as f_obj:\n",
    "    json.dump(username,f_obj)\n",
    "    print(\"we will remember you when you conme back, \"+username+\"!\")"
   ]
  },
  {
   "cell_type": "code",
   "execution_count": null,
   "metadata": {},
   "outputs": [],
   "source": [
    "#问候已经存储的用户名字\n",
    "import json\n",
    "filename='username.json'\n",
    "with open(filename) as f_obj:\n",
    "    username=json.load(f_obj)\n",
    "    print(\"Welcome back, \"+username+\" !\")"
   ]
  },
  {
   "cell_type": "code",
   "execution_count": null,
   "metadata": {},
   "outputs": [],
   "source": [
    "#整合两段代码\n",
    "import json\n",
    "#如果是以前存储的用户名，就运行它\n",
    "#如果不是，就提示用户输入用户名并存储它\n",
    "filename='username.json'\n",
    "try:\n",
    "    with open(filename) as f_obj:\n",
    "        username=json.load(f_obj)\n",
    "except FileNotFoundError:\n",
    "    username=input(\"What is your name?\")\n",
    "    with open(filename,'w') as f_obj:\n",
    "        json.dump(username,f_obj)\n",
    "        print(\"We'll remenber you when you come back, \"+username+\"!\")\n",
    "else:\n",
    "    print(\"Welcome back, \"+username+\"!\")"
   ]
  },
  {
   "cell_type": "code",
   "execution_count": null,
   "metadata": {},
   "outputs": [],
   "source": [
    "#重构：将代码划分为一系列完成具体工作的函数（将大功能分解成一个一个小功能）\n",
    "import json\n",
    "def get_stored_username():\n",
    "    \"\"\"如果存储了用户名，就获取它\"\"\"\n",
    "    filename='username.json'\n",
    "    try:\n",
    "        with open(filename) as f_obj:\n",
    "            username=json.load(f_obj)\n",
    "    except FileNotFoundError:\n",
    "        return None\n",
    "    else:\n",
    "        return username\n",
    "def get_new_username():\n",
    "    \"\"\"提示用户输入用户名\"\"\"\n",
    "    username=input(\"What is your name?\")\n",
    "    filename='username.json'\n",
    "    with open(filename,'w') as f_obj:\n",
    "        json.dump(username,f_obj)\n",
    "    return username\n",
    "def greet_user():\n",
    "    \"\"\"问候用户，并指出其名字\"\"\"\n",
    "    username=get_stored_username()\n",
    "    if username:\n",
    "        print(\"Welcome back, \"+username+\"!\")\n",
    "    else:\n",
    "        username=get_new_username()\n",
    "        print(\"We'll remember you when you come back, \"+username+\"!\")\n",
    "greet_user()"
   ]
  },
  {
   "cell_type": "code",
   "execution_count": null,
   "metadata": {},
   "outputs": [],
   "source": []
  },
  {
   "cell_type": "code",
   "execution_count": null,
   "metadata": {},
   "outputs": [],
   "source": []
  },
  {
   "cell_type": "code",
   "execution_count": null,
   "metadata": {},
   "outputs": [],
   "source": []
  },
  {
   "cell_type": "code",
   "execution_count": null,
   "metadata": {},
   "outputs": [],
   "source": []
  },
  {
   "cell_type": "code",
   "execution_count": null,
   "metadata": {},
   "outputs": [],
   "source": []
  },
  {
   "cell_type": "code",
   "execution_count": null,
   "metadata": {},
   "outputs": [],
   "source": []
  },
  {
   "cell_type": "code",
   "execution_count": null,
   "metadata": {},
   "outputs": [],
   "source": []
  },
  {
   "cell_type": "code",
   "execution_count": null,
   "metadata": {},
   "outputs": [],
   "source": []
  },
  {
   "cell_type": "code",
   "execution_count": null,
   "metadata": {},
   "outputs": [],
   "source": []
  },
  {
   "cell_type": "code",
   "execution_count": null,
   "metadata": {},
   "outputs": [],
   "source": []
  },
  {
   "cell_type": "code",
   "execution_count": null,
   "metadata": {},
   "outputs": [],
   "source": []
  },
  {
   "cell_type": "code",
   "execution_count": null,
   "metadata": {},
   "outputs": [],
   "source": []
  },
  {
   "cell_type": "code",
   "execution_count": null,
   "metadata": {},
   "outputs": [],
   "source": []
  },
  {
   "cell_type": "code",
   "execution_count": null,
   "metadata": {},
   "outputs": [],
   "source": []
  },
  {
   "cell_type": "code",
   "execution_count": null,
   "metadata": {},
   "outputs": [],
   "source": []
  }
 ],
 "metadata": {
  "kernelspec": {
   "display_name": "Python 3",
   "language": "python",
   "name": "python3"
  },
  "language_info": {
   "codemirror_mode": {
    "name": "ipython",
    "version": 3
   },
   "file_extension": ".py",
   "mimetype": "text/x-python",
   "name": "python",
   "nbconvert_exporter": "python",
   "pygments_lexer": "ipython3",
   "version": "3.7.6"
  }
 },
 "nbformat": 4,
 "nbformat_minor": 4
}
